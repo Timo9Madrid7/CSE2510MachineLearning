{
 "cells": [
  {
   "cell_type": "markdown",
   "metadata": {},
   "source": [
    "# American Census"
   ]
  },
  {
   "cell_type": "code",
   "execution_count": 1,
   "metadata": {},
   "outputs": [],
   "source": [
    "import numpy as np\n",
    "import pandas as pd\n",
    "\n",
    "from sklearn.naive_bayes import GaussianNB\n",
    "from sklearn.dummy import DummyClassifier\n",
    "from sklearn.tree import DecisionTreeClassifier\n",
    "from sklearn.svm import SVC\n",
    "from sklearn.neighbors import KNeighborsClassifier\n",
    "from sklearn.linear_model import LogisticRegression\n",
    "\n",
    "import matplotlib.pyplot as plt\n",
    "from jupyterthemes import jtplot\n",
    "jtplot.style(theme=\"oceans16\")\n",
    "\n",
    "import warnings\n",
    "warnings.filterwarnings(\"ignore\")"
   ]
  },
  {
   "cell_type": "markdown",
   "metadata": {},
   "source": [
    "## Global config"
   ]
  },
  {
   "cell_type": "code",
   "execution_count": 2,
   "metadata": {},
   "outputs": [],
   "source": [
    "# Data config\n",
    "path_to_csv = \"adult.csv\"\n"
   ]
  },
  {
   "cell_type": "markdown",
   "metadata": {},
   "source": [
    "## Load data"
   ]
  },
  {
   "cell_type": "code",
   "execution_count": 39,
   "metadata": {},
   "outputs": [],
   "source": [
    "x_train_raw = pd.read_csv(\"X_train.csv\")\n",
    "y_train_raw = pd.read_csv(\"y_train.csv\")\n",
    "\n",
    "x_test_raw = pd.read_csv(\"X_test.csv\")"
   ]
  },
  {
   "cell_type": "markdown",
   "metadata": {},
   "source": [
    "## Helpers"
   ]
  },
  {
   "cell_type": "code",
   "execution_count": 4,
   "metadata": {},
   "outputs": [],
   "source": [
    "# TODO"
   ]
  },
  {
   "cell_type": "markdown",
   "metadata": {},
   "source": [
    "## Data exploration"
   ]
  },
  {
   "cell_type": "markdown",
   "metadata": {},
   "source": [
    "### Question 1\n",
    "<span style=\"color:#e6bc53\">(1 point) Explore the features and target variables of the dataset. What is the right performance metric to use for this dataset? Clearly explain which performance metric you\n",
    "choose and why. Use no more than 125 words.</span>\n",
    "\n",
    "<p>We prefer to choose F1-score as our performance metric for this dataset. There are mainly three reasons for this choice.</p>\n",
    "<p>1. This is a real-life binary classification problem, for which F1-score is widely used.</p> \n",
    "<p>2. When we explored the label set, we found that the set was imbalanced. There are approximately 4K people have the salaries above the threshold, but about 12K people are below that threshold. F1-score is a better metric to evaluate the imbalanced class distribution which has a large number of actual negatives, because the return value of F1-score is a harmonic mean of precision and recall.</p>\n",
    "<p>3. We are familiar with this type of metric.</p>"
   ]
  },
  {
   "cell_type": "code",
   "execution_count": 5,
   "metadata": {},
   "outputs": [
    {
     "data": {
      "text/html": [
       "<div>\n",
       "<style scoped>\n",
       "    .dataframe tbody tr th:only-of-type {\n",
       "        vertical-align: middle;\n",
       "    }\n",
       "\n",
       "    .dataframe tbody tr th {\n",
       "        vertical-align: top;\n",
       "    }\n",
       "\n",
       "    .dataframe thead th {\n",
       "        text-align: right;\n",
       "    }\n",
       "</style>\n",
       "<table border=\"1\" class=\"dataframe\">\n",
       "  <thead>\n",
       "    <tr style=\"text-align: right;\">\n",
       "      <th></th>\n",
       "      <th>age</th>\n",
       "      <th>education-num</th>\n",
       "      <th>hours-per-week</th>\n",
       "      <th>workclass</th>\n",
       "      <th>education</th>\n",
       "      <th>marital-status</th>\n",
       "      <th>occupation</th>\n",
       "      <th>relationship</th>\n",
       "      <th>race</th>\n",
       "      <th>sex</th>\n",
       "      <th>native-country</th>\n",
       "    </tr>\n",
       "  </thead>\n",
       "  <tbody>\n",
       "    <tr>\n",
       "      <th>0</th>\n",
       "      <td>30</td>\n",
       "      <td>9.0</td>\n",
       "      <td>40</td>\n",
       "      <td>Private</td>\n",
       "      <td>HS-grad</td>\n",
       "      <td>Married-civ-spouse</td>\n",
       "      <td>Sales</td>\n",
       "      <td>Own-child</td>\n",
       "      <td>Asian-Pac-Islander</td>\n",
       "      <td>Female</td>\n",
       "      <td>United-States</td>\n",
       "    </tr>\n",
       "    <tr>\n",
       "      <th>1</th>\n",
       "      <td>77</td>\n",
       "      <td>10.0</td>\n",
       "      <td>6</td>\n",
       "      <td>NaN</td>\n",
       "      <td>Some-college</td>\n",
       "      <td>Married-civ-spouse</td>\n",
       "      <td>NaN</td>\n",
       "      <td>Husband</td>\n",
       "      <td>White</td>\n",
       "      <td>Male</td>\n",
       "      <td>United-States</td>\n",
       "    </tr>\n",
       "    <tr>\n",
       "      <th>2</th>\n",
       "      <td>44</td>\n",
       "      <td>12.0</td>\n",
       "      <td>50</td>\n",
       "      <td>Private</td>\n",
       "      <td>Assoc-acdm</td>\n",
       "      <td>Never-married</td>\n",
       "      <td>Prof-specialty</td>\n",
       "      <td>Unmarried</td>\n",
       "      <td>Black</td>\n",
       "      <td>Female</td>\n",
       "      <td>United-States</td>\n",
       "    </tr>\n",
       "    <tr>\n",
       "      <th>3</th>\n",
       "      <td>53</td>\n",
       "      <td>10.0</td>\n",
       "      <td>50</td>\n",
       "      <td>Private</td>\n",
       "      <td>Some-college</td>\n",
       "      <td>Never-married</td>\n",
       "      <td>Adm-clerical</td>\n",
       "      <td>Not-in-family</td>\n",
       "      <td>White</td>\n",
       "      <td>Female</td>\n",
       "      <td>United-States</td>\n",
       "    </tr>\n",
       "    <tr>\n",
       "      <th>4</th>\n",
       "      <td>41</td>\n",
       "      <td>10.0</td>\n",
       "      <td>40</td>\n",
       "      <td>Federal-gov</td>\n",
       "      <td>Some-college</td>\n",
       "      <td>Married-civ-spouse</td>\n",
       "      <td>Transport-moving</td>\n",
       "      <td>Wife</td>\n",
       "      <td>White</td>\n",
       "      <td>Female</td>\n",
       "      <td>United-States</td>\n",
       "    </tr>\n",
       "  </tbody>\n",
       "</table>\n",
       "</div>"
      ],
      "text/plain": [
       "   age  education-num  hours-per-week     workclass      education  \\\n",
       "0   30            9.0              40       Private        HS-grad   \n",
       "1   77           10.0               6           NaN   Some-college   \n",
       "2   44           12.0              50       Private     Assoc-acdm   \n",
       "3   53           10.0              50       Private   Some-college   \n",
       "4   41           10.0              40   Federal-gov   Some-college   \n",
       "\n",
       "        marital-status         occupation    relationship  \\\n",
       "0   Married-civ-spouse              Sales       Own-child   \n",
       "1   Married-civ-spouse                NaN         Husband   \n",
       "2        Never-married     Prof-specialty       Unmarried   \n",
       "3        Never-married       Adm-clerical   Not-in-family   \n",
       "4   Married-civ-spouse   Transport-moving            Wife   \n",
       "\n",
       "                  race      sex  native-country  \n",
       "0   Asian-Pac-Islander   Female   United-States  \n",
       "1                White     Male   United-States  \n",
       "2                Black   Female   United-States  \n",
       "3                White   Female   United-States  \n",
       "4                White   Female   United-States  "
      ]
     },
     "execution_count": 5,
     "metadata": {},
     "output_type": "execute_result"
    }
   ],
   "source": [
    "x_train_raw.head()"
   ]
  },
  {
   "cell_type": "code",
   "execution_count": 6,
   "metadata": {},
   "outputs": [
    {
     "name": "stdout",
     "output_type": "stream",
     "text": [
      "<class 'pandas.core.frame.DataFrame'>\n",
      "RangeIndex: 16280 entries, 0 to 16279\n",
      "Data columns (total 11 columns):\n",
      " #   Column          Non-Null Count  Dtype  \n",
      "---  ------          --------------  -----  \n",
      " 0   age             16280 non-null  int64  \n",
      " 1   education-num   16040 non-null  float64\n",
      " 2   hours-per-week  16280 non-null  int64  \n",
      " 3   workclass       15344 non-null  object \n",
      " 4   education       16280 non-null  object \n",
      " 5   marital-status  16280 non-null  object \n",
      " 6   occupation      15099 non-null  object \n",
      " 7   relationship    16280 non-null  object \n",
      " 8   race            16280 non-null  object \n",
      " 9   sex             16280 non-null  object \n",
      " 10  native-country  15980 non-null  object \n",
      "dtypes: float64(1), int64(2), object(8)\n",
      "memory usage: 1.4+ MB\n"
     ]
    }
   ],
   "source": [
    "x_train_raw.info()"
   ]
  },
  {
   "cell_type": "code",
   "execution_count": 7,
   "metadata": {},
   "outputs": [
    {
     "data": {
      "text/html": [
       "<div>\n",
       "<style scoped>\n",
       "    .dataframe tbody tr th:only-of-type {\n",
       "        vertical-align: middle;\n",
       "    }\n",
       "\n",
       "    .dataframe tbody tr th {\n",
       "        vertical-align: top;\n",
       "    }\n",
       "\n",
       "    .dataframe thead th {\n",
       "        text-align: right;\n",
       "    }\n",
       "</style>\n",
       "<table border=\"1\" class=\"dataframe\">\n",
       "  <thead>\n",
       "    <tr style=\"text-align: right;\">\n",
       "      <th></th>\n",
       "      <th>salary</th>\n",
       "    </tr>\n",
       "  </thead>\n",
       "  <tbody>\n",
       "    <tr>\n",
       "      <th>0</th>\n",
       "      <td>0</td>\n",
       "    </tr>\n",
       "    <tr>\n",
       "      <th>1</th>\n",
       "      <td>0</td>\n",
       "    </tr>\n",
       "    <tr>\n",
       "      <th>2</th>\n",
       "      <td>0</td>\n",
       "    </tr>\n",
       "    <tr>\n",
       "      <th>3</th>\n",
       "      <td>1</td>\n",
       "    </tr>\n",
       "    <tr>\n",
       "      <th>4</th>\n",
       "      <td>1</td>\n",
       "    </tr>\n",
       "  </tbody>\n",
       "</table>\n",
       "</div>"
      ],
      "text/plain": [
       "   salary\n",
       "0       0\n",
       "1       0\n",
       "2       0\n",
       "3       1\n",
       "4       1"
      ]
     },
     "execution_count": 7,
     "metadata": {},
     "output_type": "execute_result"
    }
   ],
   "source": [
    "y_train_raw.head()"
   ]
  },
  {
   "cell_type": "code",
   "execution_count": 8,
   "metadata": {},
   "outputs": [
    {
     "name": "stdout",
     "output_type": "stream",
     "text": [
      "<class 'pandas.core.frame.DataFrame'>\n",
      "RangeIndex: 16280 entries, 0 to 16279\n",
      "Data columns (total 1 columns):\n",
      " #   Column  Non-Null Count  Dtype\n",
      "---  ------  --------------  -----\n",
      " 0   salary  16280 non-null  int64\n",
      "dtypes: int64(1)\n",
      "memory usage: 127.3 KB\n"
     ]
    }
   ],
   "source": [
    "y_train_raw.info()"
   ]
  },
  {
   "cell_type": "code",
   "execution_count": 9,
   "metadata": {},
   "outputs": [
    {
     "data": {
      "text/html": [
       "<div>\n",
       "<style scoped>\n",
       "    .dataframe tbody tr th:only-of-type {\n",
       "        vertical-align: middle;\n",
       "    }\n",
       "\n",
       "    .dataframe tbody tr th {\n",
       "        vertical-align: top;\n",
       "    }\n",
       "\n",
       "    .dataframe thead th {\n",
       "        text-align: right;\n",
       "    }\n",
       "</style>\n",
       "<table border=\"1\" class=\"dataframe\">\n",
       "  <thead>\n",
       "    <tr style=\"text-align: right;\">\n",
       "      <th></th>\n",
       "      <th>age</th>\n",
       "      <th>education-num</th>\n",
       "      <th>hours-per-week</th>\n",
       "      <th>workclass</th>\n",
       "      <th>education</th>\n",
       "      <th>marital-status</th>\n",
       "      <th>occupation</th>\n",
       "      <th>relationship</th>\n",
       "      <th>race</th>\n",
       "      <th>sex</th>\n",
       "      <th>native-country</th>\n",
       "    </tr>\n",
       "  </thead>\n",
       "  <tbody>\n",
       "    <tr>\n",
       "      <th>0</th>\n",
       "      <td>74</td>\n",
       "      <td>10.0</td>\n",
       "      <td>40</td>\n",
       "      <td>Self-emp-inc</td>\n",
       "      <td>Some-college</td>\n",
       "      <td>Widowed</td>\n",
       "      <td>Exec-managerial</td>\n",
       "      <td>Unmarried</td>\n",
       "      <td>White</td>\n",
       "      <td>Male</td>\n",
       "      <td>United-States</td>\n",
       "    </tr>\n",
       "    <tr>\n",
       "      <th>1</th>\n",
       "      <td>17</td>\n",
       "      <td>8.0</td>\n",
       "      <td>15</td>\n",
       "      <td>Private</td>\n",
       "      <td>12th</td>\n",
       "      <td>Never-married</td>\n",
       "      <td>Handlers-cleaners</td>\n",
       "      <td>Own-child</td>\n",
       "      <td>White</td>\n",
       "      <td>Male</td>\n",
       "      <td>United-States</td>\n",
       "    </tr>\n",
       "    <tr>\n",
       "      <th>2</th>\n",
       "      <td>60</td>\n",
       "      <td>10.0</td>\n",
       "      <td>32</td>\n",
       "      <td>Private</td>\n",
       "      <td>Some-college</td>\n",
       "      <td>Married-civ-spouse</td>\n",
       "      <td>Craft-repair</td>\n",
       "      <td>Husband</td>\n",
       "      <td>Other</td>\n",
       "      <td>Male</td>\n",
       "      <td>United-States</td>\n",
       "    </tr>\n",
       "    <tr>\n",
       "      <th>3</th>\n",
       "      <td>62</td>\n",
       "      <td>9.0</td>\n",
       "      <td>42</td>\n",
       "      <td>Private</td>\n",
       "      <td>HS-grad</td>\n",
       "      <td>Widowed</td>\n",
       "      <td>Adm-clerical</td>\n",
       "      <td>Not-in-family</td>\n",
       "      <td>White</td>\n",
       "      <td>Female</td>\n",
       "      <td>United-States</td>\n",
       "    </tr>\n",
       "    <tr>\n",
       "      <th>4</th>\n",
       "      <td>52</td>\n",
       "      <td>10.0</td>\n",
       "      <td>65</td>\n",
       "      <td>Private</td>\n",
       "      <td>Some-college</td>\n",
       "      <td>Married-civ-spouse</td>\n",
       "      <td>Sales</td>\n",
       "      <td>Husband</td>\n",
       "      <td>White</td>\n",
       "      <td>Male</td>\n",
       "      <td>United-States</td>\n",
       "    </tr>\n",
       "  </tbody>\n",
       "</table>\n",
       "</div>"
      ],
      "text/plain": [
       "   age  education-num  hours-per-week      workclass      education  \\\n",
       "0   74           10.0              40   Self-emp-inc   Some-college   \n",
       "1   17            8.0              15        Private           12th   \n",
       "2   60           10.0              32        Private   Some-college   \n",
       "3   62            9.0              42        Private        HS-grad   \n",
       "4   52           10.0              65        Private   Some-college   \n",
       "\n",
       "        marital-status          occupation    relationship    race      sex  \\\n",
       "0              Widowed     Exec-managerial       Unmarried   White     Male   \n",
       "1        Never-married   Handlers-cleaners       Own-child   White     Male   \n",
       "2   Married-civ-spouse        Craft-repair         Husband   Other     Male   \n",
       "3              Widowed        Adm-clerical   Not-in-family   White   Female   \n",
       "4   Married-civ-spouse               Sales         Husband   White     Male   \n",
       "\n",
       "   native-country  \n",
       "0   United-States  \n",
       "1   United-States  \n",
       "2   United-States  \n",
       "3   United-States  \n",
       "4   United-States  "
      ]
     },
     "execution_count": 9,
     "metadata": {},
     "output_type": "execute_result"
    }
   ],
   "source": [
    "x_test_raw.head()"
   ]
  },
  {
   "cell_type": "code",
   "execution_count": 10,
   "metadata": {},
   "outputs": [
    {
     "name": "stdout",
     "output_type": "stream",
     "text": [
      "<class 'pandas.core.frame.DataFrame'>\n",
      "RangeIndex: 14747 entries, 0 to 14746\n",
      "Data columns (total 11 columns):\n",
      " #   Column          Non-Null Count  Dtype  \n",
      "---  ------          --------------  -----  \n",
      " 0   age             14747 non-null  int64  \n",
      " 1   education-num   14747 non-null  float64\n",
      " 2   hours-per-week  14747 non-null  int64  \n",
      " 3   workclass       14747 non-null  object \n",
      " 4   education       14747 non-null  object \n",
      " 5   marital-status  14747 non-null  object \n",
      " 6   occupation      14747 non-null  object \n",
      " 7   relationship    14747 non-null  object \n",
      " 8   race            14747 non-null  object \n",
      " 9   sex             14747 non-null  object \n",
      " 10  native-country  14747 non-null  object \n",
      "dtypes: float64(1), int64(2), object(8)\n",
      "memory usage: 1.2+ MB\n"
     ]
    }
   ],
   "source": [
    "x_test_raw.info()"
   ]
  },
  {
   "cell_type": "code",
   "execution_count": 11,
   "metadata": {},
   "outputs": [
    {
     "name": "stdout",
     "output_type": "stream",
     "text": [
      "label:\t [0 1]\n",
      "number:\t [12360  3920]\n"
     ]
    }
   ],
   "source": [
    "print(\"label:\\t\", np.unique(y_train_raw, return_counts=True)[0])\n",
    "print(\"number:\\t\", np.unique(y_train_raw, return_counts=True)[1])"
   ]
  },
  {
   "cell_type": "markdown",
   "metadata": {},
   "source": [
    "### Question 2\n",
    "<span style=\"color:#e6bc53\">(1 point) Algorithmic bias can be a real problem in Machine Learning. So based on this,\n",
    "should we use the Race and the Sex features in our machine learning algorithm? Clearly\n",
    "explain what you believe, also provide us with arguments why. Note this question will\n",
    "be graded based only on your argumentation. Use no more than 75 words.</span>\n",
    "\n",
    "It depends on the target or the goal of our model. If we advocate to use these features to dig out the problem whether there exist racial and gender discriminations, or even age discrimination and academic discrimination, they should be taken into consideration, since we want to use these features to find the biases, to report them, and to eliminate them, in order to build an impartial and harmonious society."
   ]
  },
  {
   "cell_type": "markdown",
   "metadata": {},
   "source": [
    "## Data exploration"
   ]
  },
  {
   "cell_type": "markdown",
   "metadata": {},
   "source": [
    "### Question 1\n",
    "<span style=\"color:#e6bc53\">(2 points) This dataset hasn’t been cleaned, yet. Do this by finding all the missing values\n",
    "and handling them. How did you handle these missing values? Clearly explain which\n",
    "values were missing and how you handled them. Use no more than 100 words.</span>\n",
    "\n",
    "There are 1573 samples, which contain at least one missing feature values, in the training set. We used the simplest way to deal with them - we dropped the corresponding rows where the missing values exist. The noise would have been added to the dataset if we had manually filled the blanks. Besides, we did not lose the number of samples significantly."
   ]
  },
  {
   "cell_type": "code",
   "execution_count": 12,
   "metadata": {},
   "outputs": [
    {
     "data": {
      "text/html": [
       "<div>\n",
       "<style scoped>\n",
       "    .dataframe tbody tr th:only-of-type {\n",
       "        vertical-align: middle;\n",
       "    }\n",
       "\n",
       "    .dataframe tbody tr th {\n",
       "        vertical-align: top;\n",
       "    }\n",
       "\n",
       "    .dataframe thead th {\n",
       "        text-align: right;\n",
       "    }\n",
       "</style>\n",
       "<table border=\"1\" class=\"dataframe\">\n",
       "  <thead>\n",
       "    <tr style=\"text-align: right;\">\n",
       "      <th></th>\n",
       "      <th>age</th>\n",
       "      <th>education-num</th>\n",
       "      <th>hours-per-week</th>\n",
       "      <th>workclass</th>\n",
       "      <th>education</th>\n",
       "      <th>marital-status</th>\n",
       "      <th>occupation</th>\n",
       "      <th>relationship</th>\n",
       "      <th>race</th>\n",
       "      <th>sex</th>\n",
       "      <th>native-country</th>\n",
       "    </tr>\n",
       "  </thead>\n",
       "  <tbody>\n",
       "    <tr>\n",
       "      <th>1</th>\n",
       "      <td>77</td>\n",
       "      <td>10.0</td>\n",
       "      <td>6</td>\n",
       "      <td>NaN</td>\n",
       "      <td>Some-college</td>\n",
       "      <td>Married-civ-spouse</td>\n",
       "      <td>NaN</td>\n",
       "      <td>Husband</td>\n",
       "      <td>White</td>\n",
       "      <td>Male</td>\n",
       "      <td>United-States</td>\n",
       "    </tr>\n",
       "    <tr>\n",
       "      <th>26</th>\n",
       "      <td>55</td>\n",
       "      <td>13.0</td>\n",
       "      <td>40</td>\n",
       "      <td>NaN</td>\n",
       "      <td>Bachelors</td>\n",
       "      <td>Married-civ-spouse</td>\n",
       "      <td>NaN</td>\n",
       "      <td>Husband</td>\n",
       "      <td>White</td>\n",
       "      <td>Male</td>\n",
       "      <td>United-States</td>\n",
       "    </tr>\n",
       "    <tr>\n",
       "      <th>35</th>\n",
       "      <td>49</td>\n",
       "      <td>9.0</td>\n",
       "      <td>60</td>\n",
       "      <td>NaN</td>\n",
       "      <td>HS-grad</td>\n",
       "      <td>Married-civ-spouse</td>\n",
       "      <td>NaN</td>\n",
       "      <td>Wife</td>\n",
       "      <td>White</td>\n",
       "      <td>Female</td>\n",
       "      <td>United-States</td>\n",
       "    </tr>\n",
       "    <tr>\n",
       "      <th>37</th>\n",
       "      <td>31</td>\n",
       "      <td>5.0</td>\n",
       "      <td>25</td>\n",
       "      <td>NaN</td>\n",
       "      <td>9th</td>\n",
       "      <td>Divorced</td>\n",
       "      <td>NaN</td>\n",
       "      <td>Not-in-family</td>\n",
       "      <td>White</td>\n",
       "      <td>Female</td>\n",
       "      <td>United-States</td>\n",
       "    </tr>\n",
       "    <tr>\n",
       "      <th>47</th>\n",
       "      <td>61</td>\n",
       "      <td>9.0</td>\n",
       "      <td>40</td>\n",
       "      <td>NaN</td>\n",
       "      <td>HS-grad</td>\n",
       "      <td>Married-civ-spouse</td>\n",
       "      <td>NaN</td>\n",
       "      <td>Husband</td>\n",
       "      <td>White</td>\n",
       "      <td>Male</td>\n",
       "      <td>United-States</td>\n",
       "    </tr>\n",
       "    <tr>\n",
       "      <th>...</th>\n",
       "      <td>...</td>\n",
       "      <td>...</td>\n",
       "      <td>...</td>\n",
       "      <td>...</td>\n",
       "      <td>...</td>\n",
       "      <td>...</td>\n",
       "      <td>...</td>\n",
       "      <td>...</td>\n",
       "      <td>...</td>\n",
       "      <td>...</td>\n",
       "      <td>...</td>\n",
       "    </tr>\n",
       "    <tr>\n",
       "      <th>16251</th>\n",
       "      <td>25</td>\n",
       "      <td>13.0</td>\n",
       "      <td>40</td>\n",
       "      <td>NaN</td>\n",
       "      <td>Bachelors</td>\n",
       "      <td>Married-spouse-absent</td>\n",
       "      <td>NaN</td>\n",
       "      <td>Not-in-family</td>\n",
       "      <td>White</td>\n",
       "      <td>Male</td>\n",
       "      <td>Canada</td>\n",
       "    </tr>\n",
       "    <tr>\n",
       "      <th>16253</th>\n",
       "      <td>35</td>\n",
       "      <td>9.0</td>\n",
       "      <td>40</td>\n",
       "      <td>NaN</td>\n",
       "      <td>HS-grad</td>\n",
       "      <td>Never-married</td>\n",
       "      <td>NaN</td>\n",
       "      <td>Unmarried</td>\n",
       "      <td>Black</td>\n",
       "      <td>Female</td>\n",
       "      <td>United-States</td>\n",
       "    </tr>\n",
       "    <tr>\n",
       "      <th>16256</th>\n",
       "      <td>37</td>\n",
       "      <td>15.0</td>\n",
       "      <td>6</td>\n",
       "      <td>NaN</td>\n",
       "      <td>Prof-school</td>\n",
       "      <td>Married-civ-spouse</td>\n",
       "      <td>NaN</td>\n",
       "      <td>Husband</td>\n",
       "      <td>White</td>\n",
       "      <td>Male</td>\n",
       "      <td>Mexico</td>\n",
       "    </tr>\n",
       "    <tr>\n",
       "      <th>16259</th>\n",
       "      <td>66</td>\n",
       "      <td>NaN</td>\n",
       "      <td>40</td>\n",
       "      <td>Local-gov</td>\n",
       "      <td>HS-grad</td>\n",
       "      <td>Married-civ-spouse</td>\n",
       "      <td>Craft-repair</td>\n",
       "      <td>Husband</td>\n",
       "      <td>White</td>\n",
       "      <td>Male</td>\n",
       "      <td>United-States</td>\n",
       "    </tr>\n",
       "    <tr>\n",
       "      <th>16267</th>\n",
       "      <td>33</td>\n",
       "      <td>NaN</td>\n",
       "      <td>40</td>\n",
       "      <td>Private</td>\n",
       "      <td>HS-grad</td>\n",
       "      <td>Never-married</td>\n",
       "      <td>NaN</td>\n",
       "      <td>Not-in-family</td>\n",
       "      <td>White</td>\n",
       "      <td>Male</td>\n",
       "      <td>United-States</td>\n",
       "    </tr>\n",
       "  </tbody>\n",
       "</table>\n",
       "<p>1573 rows × 11 columns</p>\n",
       "</div>"
      ],
      "text/plain": [
       "       age  education-num  hours-per-week   workclass      education  \\\n",
       "1       77           10.0               6         NaN   Some-college   \n",
       "26      55           13.0              40         NaN      Bachelors   \n",
       "35      49            9.0              60         NaN        HS-grad   \n",
       "37      31            5.0              25         NaN            9th   \n",
       "47      61            9.0              40         NaN        HS-grad   \n",
       "...    ...            ...             ...         ...            ...   \n",
       "16251   25           13.0              40         NaN      Bachelors   \n",
       "16253   35            9.0              40         NaN        HS-grad   \n",
       "16256   37           15.0               6         NaN    Prof-school   \n",
       "16259   66            NaN              40   Local-gov        HS-grad   \n",
       "16267   33            NaN              40     Private        HS-grad   \n",
       "\n",
       "               marital-status     occupation    relationship    race      sex  \\\n",
       "1          Married-civ-spouse            NaN         Husband   White     Male   \n",
       "26         Married-civ-spouse            NaN         Husband   White     Male   \n",
       "35         Married-civ-spouse            NaN            Wife   White   Female   \n",
       "37                   Divorced            NaN   Not-in-family   White   Female   \n",
       "47         Married-civ-spouse            NaN         Husband   White     Male   \n",
       "...                       ...            ...             ...     ...      ...   \n",
       "16251   Married-spouse-absent            NaN   Not-in-family   White     Male   \n",
       "16253           Never-married            NaN       Unmarried   Black   Female   \n",
       "16256      Married-civ-spouse            NaN         Husband   White     Male   \n",
       "16259      Married-civ-spouse   Craft-repair         Husband   White     Male   \n",
       "16267           Never-married            NaN   Not-in-family   White     Male   \n",
       "\n",
       "       native-country  \n",
       "1       United-States  \n",
       "26      United-States  \n",
       "35      United-States  \n",
       "37      United-States  \n",
       "47      United-States  \n",
       "...               ...  \n",
       "16251          Canada  \n",
       "16253   United-States  \n",
       "16256          Mexico  \n",
       "16259   United-States  \n",
       "16267   United-States  \n",
       "\n",
       "[1573 rows x 11 columns]"
      ]
     },
     "execution_count": 12,
     "metadata": {},
     "output_type": "execute_result"
    }
   ],
   "source": [
    "# find the rows which has the missing value(s)\n",
    "x_trian_miss = x_train_raw[x_train_raw.isnull().any(axis=1)==True]\n",
    "x_trian_miss"
   ]
  },
  {
   "cell_type": "code",
   "execution_count": 13,
   "metadata": {},
   "outputs": [
    {
     "data": {
      "text/plain": [
       "age                  0\n",
       "education-num      240\n",
       "hours-per-week       0\n",
       "workclass          936\n",
       "education            0\n",
       "marital-status       0\n",
       "occupation        1181\n",
       "relationship         0\n",
       "race                 0\n",
       "sex                  0\n",
       "native-country     300\n",
       "dtype: int64"
      ]
     },
     "execution_count": 13,
     "metadata": {},
     "output_type": "execute_result"
    }
   ],
   "source": [
    "# count missing values for each feature\n",
    "np.sum(pd.isna(x_train_raw))"
   ]
  },
  {
   "cell_type": "code",
   "execution_count": 14,
   "metadata": {},
   "outputs": [
    {
     "name": "stdout",
     "output_type": "stream",
     "text": [
      "the number of preserving samples: 14707\n",
      "the number of dropping samples: 1573\n",
      "the numer of original samples: 16280\n"
     ]
    }
   ],
   "source": [
    "# drop the rows which contain the missing value(s)\n",
    "x_train_drop = x_train_raw[x_train_raw.notnull().all(axis=1)==True]\n",
    "y_train_drop = y_train_raw[x_train_raw.notnull().all(axis=1)==True]\n",
    "\n",
    "assert(x_train_drop.shape[0] == y_train_drop.shape[0])\n",
    "print(\"the number of preserving samples:\", x_train_drop.shape[0])\n",
    "print(\"the number of dropping samples:\", x_trian_miss.shape[0])\n",
    "print(\"the numer of original samples:\", x_train_raw.shape[0])"
   ]
  },
  {
   "cell_type": "code",
   "execution_count": 40,
   "metadata": {},
   "outputs": [
    {
     "data": {
      "text/html": [
       "<div>\n",
       "<style scoped>\n",
       "    .dataframe tbody tr th:only-of-type {\n",
       "        vertical-align: middle;\n",
       "    }\n",
       "\n",
       "    .dataframe tbody tr th {\n",
       "        vertical-align: top;\n",
       "    }\n",
       "\n",
       "    .dataframe thead th {\n",
       "        text-align: right;\n",
       "    }\n",
       "</style>\n",
       "<table border=\"1\" class=\"dataframe\">\n",
       "  <thead>\n",
       "    <tr style=\"text-align: right;\">\n",
       "      <th></th>\n",
       "      <th>age</th>\n",
       "      <th>education-num</th>\n",
       "      <th>hours-per-week</th>\n",
       "      <th>workclass</th>\n",
       "      <th>education</th>\n",
       "      <th>marital-status</th>\n",
       "      <th>occupation</th>\n",
       "      <th>relationship</th>\n",
       "      <th>race</th>\n",
       "      <th>sex</th>\n",
       "      <th>native-country</th>\n",
       "    </tr>\n",
       "  </thead>\n",
       "  <tbody>\n",
       "    <tr>\n",
       "      <th>10542</th>\n",
       "      <td>32</td>\n",
       "      <td>10.0</td>\n",
       "      <td>40</td>\n",
       "      <td>Private</td>\n",
       "      <td>Some-college</td>\n",
       "      <td>Never-married</td>\n",
       "      <td>Machine-op-inspct</td>\n",
       "      <td>Other-relative</td>\n",
       "      <td>White</td>\n",
       "      <td>Female</td>\n",
       "      <td>Holand-Netherlands</td>\n",
       "    </tr>\n",
       "  </tbody>\n",
       "</table>\n",
       "</div>"
      ],
      "text/plain": [
       "       age  education-num  hours-per-week workclass      education  \\\n",
       "10542   32           10.0              40   Private   Some-college   \n",
       "\n",
       "       marital-status          occupation     relationship    race      sex  \\\n",
       "10542   Never-married   Machine-op-inspct   Other-relative   White   Female   \n",
       "\n",
       "            native-country  \n",
       "10542   Holand-Netherlands  "
      ]
     },
     "execution_count": 40,
     "metadata": {},
     "output_type": "execute_result"
    }
   ],
   "source": [
    "x_test_raw.loc[x_test_raw['native-country']==' Holand-Netherlands']"
   ]
  },
  {
   "cell_type": "code",
   "execution_count": 15,
   "metadata": {},
   "outputs": [
    {
     "name": "stdout",
     "output_type": "stream",
     "text": [
      "the number of testing samples: 14707\n"
     ]
    }
   ],
   "source": [
    "# There is a very weird sample in the testing data\n",
    "# def dropHoland(x):\n",
    "#     if x in [' Holand-Netherlands']:\n",
    "#         return float('nan')\n",
    "#     else:\n",
    "#         return x\n",
    "# x_test_raw['native-country'] = x_test_raw['native-country'].apply(dropHoland)\n",
    "x_test_raw = x_test_raw[x_test_raw['native-country']!=' Holand-Netherlands']\n",
    "x_test_drop = x_test_raw[x_test_raw.notnull().all(axis=1)==True]\n",
    "\n",
    "print(\"the number of testing samples:\", x_train_drop.shape[0])"
   ]
  },
  {
   "cell_type": "code",
   "execution_count": 16,
   "metadata": {},
   "outputs": [
    {
     "data": {
      "text/plain": [
       "age               0\n",
       "education-num     0\n",
       "hours-per-week    0\n",
       "workclass         0\n",
       "education         0\n",
       "marital-status    0\n",
       "occupation        0\n",
       "relationship      0\n",
       "race              0\n",
       "sex               0\n",
       "native-country    0\n",
       "dtype: int64"
      ]
     },
     "execution_count": 16,
     "metadata": {},
     "output_type": "execute_result"
    }
   ],
   "source": [
    "x_train_rep = x_train_raw.copy()\n",
    "nullCatFeature = ['workclass', 'occupation', 'native-country']\n",
    "for feature in nullCatFeature:\n",
    "    x_train_rep[feature].replace(to_replace=np.nan, value=\" Unkonwn\", inplace=True)  \n",
    "x_train_rep['education-num'].fillna(x_train_rep['education-num'].mean(), inplace=True)\n",
    "np.sum(x_train_rep.isna())"
   ]
  },
  {
   "cell_type": "code",
   "execution_count": 17,
   "metadata": {},
   "outputs": [],
   "source": [
    "x_train_drop = x_train_rep.copy()\n",
    "y_train_drop = y_train_raw.copy()\n",
    "\n",
    "assert(len(x_train_drop) == len(y_train_drop))"
   ]
  },
  {
   "cell_type": "markdown",
   "metadata": {},
   "source": [
    "### Question 2\n",
    "<span style=\"color:#e6bc53\">(2 points) All Scikit-learn’s implementations of these algorithms expect numerical features. Check for all features if they are in numerical format. If not, transform these features into numerical ones. Clearly explain which features you transformed, how you\n",
    "transformed them and why these transformations. Use no more than 75 words. (You\n",
    "might want to read the preprocessing documentation of Scikit-learn for handy tips.)</span>\n",
    "\n",
    "There are some categorical features which are \"workclass\", \"education\", \"marital-status\", \"occupation\", relationship\", \"race\", \"sex\" and \"native-country\". We used OrdinalEncoder to encode these features. OrdinalEncoder can change the categorical features into numeric integer formats, which will become acceptable to the implementations."
   ]
  },
  {
   "cell_type": "code",
   "execution_count": 18,
   "metadata": {},
   "outputs": [
    {
     "data": {
      "text/html": [
       "<div>\n",
       "<style scoped>\n",
       "    .dataframe tbody tr th:only-of-type {\n",
       "        vertical-align: middle;\n",
       "    }\n",
       "\n",
       "    .dataframe tbody tr th {\n",
       "        vertical-align: top;\n",
       "    }\n",
       "\n",
       "    .dataframe thead th {\n",
       "        text-align: right;\n",
       "    }\n",
       "</style>\n",
       "<table border=\"1\" class=\"dataframe\">\n",
       "  <thead>\n",
       "    <tr style=\"text-align: right;\">\n",
       "      <th></th>\n",
       "      <th>workclass</th>\n",
       "      <th>education</th>\n",
       "      <th>marital-status</th>\n",
       "      <th>occupation</th>\n",
       "      <th>relationship</th>\n",
       "      <th>race</th>\n",
       "      <th>sex</th>\n",
       "      <th>native-country</th>\n",
       "    </tr>\n",
       "  </thead>\n",
       "  <tbody>\n",
       "    <tr>\n",
       "      <th>0</th>\n",
       "      <td>Private</td>\n",
       "      <td>HS-grad</td>\n",
       "      <td>Married-civ-spouse</td>\n",
       "      <td>Sales</td>\n",
       "      <td>Own-child</td>\n",
       "      <td>Asian-Pac-Islander</td>\n",
       "      <td>Female</td>\n",
       "      <td>United-States</td>\n",
       "    </tr>\n",
       "    <tr>\n",
       "      <th>1</th>\n",
       "      <td>Unkonwn</td>\n",
       "      <td>Some-college</td>\n",
       "      <td>Married-civ-spouse</td>\n",
       "      <td>Unkonwn</td>\n",
       "      <td>Husband</td>\n",
       "      <td>White</td>\n",
       "      <td>Male</td>\n",
       "      <td>United-States</td>\n",
       "    </tr>\n",
       "    <tr>\n",
       "      <th>2</th>\n",
       "      <td>Private</td>\n",
       "      <td>Assoc-acdm</td>\n",
       "      <td>Never-married</td>\n",
       "      <td>Prof-specialty</td>\n",
       "      <td>Unmarried</td>\n",
       "      <td>Black</td>\n",
       "      <td>Female</td>\n",
       "      <td>United-States</td>\n",
       "    </tr>\n",
       "    <tr>\n",
       "      <th>3</th>\n",
       "      <td>Private</td>\n",
       "      <td>Some-college</td>\n",
       "      <td>Never-married</td>\n",
       "      <td>Adm-clerical</td>\n",
       "      <td>Not-in-family</td>\n",
       "      <td>White</td>\n",
       "      <td>Female</td>\n",
       "      <td>United-States</td>\n",
       "    </tr>\n",
       "    <tr>\n",
       "      <th>4</th>\n",
       "      <td>Federal-gov</td>\n",
       "      <td>Some-college</td>\n",
       "      <td>Married-civ-spouse</td>\n",
       "      <td>Transport-moving</td>\n",
       "      <td>Wife</td>\n",
       "      <td>White</td>\n",
       "      <td>Female</td>\n",
       "      <td>United-States</td>\n",
       "    </tr>\n",
       "    <tr>\n",
       "      <th>...</th>\n",
       "      <td>...</td>\n",
       "      <td>...</td>\n",
       "      <td>...</td>\n",
       "      <td>...</td>\n",
       "      <td>...</td>\n",
       "      <td>...</td>\n",
       "      <td>...</td>\n",
       "      <td>...</td>\n",
       "    </tr>\n",
       "    <tr>\n",
       "      <th>16275</th>\n",
       "      <td>Private</td>\n",
       "      <td>Assoc-voc</td>\n",
       "      <td>Married-civ-spouse</td>\n",
       "      <td>Transport-moving</td>\n",
       "      <td>Husband</td>\n",
       "      <td>White</td>\n",
       "      <td>Male</td>\n",
       "      <td>United-States</td>\n",
       "    </tr>\n",
       "    <tr>\n",
       "      <th>16276</th>\n",
       "      <td>State-gov</td>\n",
       "      <td>Bachelors</td>\n",
       "      <td>Never-married</td>\n",
       "      <td>Prof-specialty</td>\n",
       "      <td>Not-in-family</td>\n",
       "      <td>White</td>\n",
       "      <td>Female</td>\n",
       "      <td>United-States</td>\n",
       "    </tr>\n",
       "    <tr>\n",
       "      <th>16277</th>\n",
       "      <td>State-gov</td>\n",
       "      <td>Masters</td>\n",
       "      <td>Divorced</td>\n",
       "      <td>Exec-managerial</td>\n",
       "      <td>Unmarried</td>\n",
       "      <td>White</td>\n",
       "      <td>Female</td>\n",
       "      <td>United-States</td>\n",
       "    </tr>\n",
       "    <tr>\n",
       "      <th>16278</th>\n",
       "      <td>Private</td>\n",
       "      <td>HS-grad</td>\n",
       "      <td>Never-married</td>\n",
       "      <td>Machine-op-inspct</td>\n",
       "      <td>Not-in-family</td>\n",
       "      <td>White</td>\n",
       "      <td>Male</td>\n",
       "      <td>United-States</td>\n",
       "    </tr>\n",
       "    <tr>\n",
       "      <th>16279</th>\n",
       "      <td>Private</td>\n",
       "      <td>11th</td>\n",
       "      <td>Married-civ-spouse</td>\n",
       "      <td>Transport-moving</td>\n",
       "      <td>Husband</td>\n",
       "      <td>White</td>\n",
       "      <td>Male</td>\n",
       "      <td>United-States</td>\n",
       "    </tr>\n",
       "  </tbody>\n",
       "</table>\n",
       "<p>16280 rows × 8 columns</p>\n",
       "</div>"
      ],
      "text/plain": [
       "          workclass      education       marital-status          occupation  \\\n",
       "0           Private        HS-grad   Married-civ-spouse               Sales   \n",
       "1           Unkonwn   Some-college   Married-civ-spouse             Unkonwn   \n",
       "2           Private     Assoc-acdm        Never-married      Prof-specialty   \n",
       "3           Private   Some-college        Never-married        Adm-clerical   \n",
       "4       Federal-gov   Some-college   Married-civ-spouse    Transport-moving   \n",
       "...             ...            ...                  ...                 ...   \n",
       "16275       Private      Assoc-voc   Married-civ-spouse    Transport-moving   \n",
       "16276     State-gov      Bachelors        Never-married      Prof-specialty   \n",
       "16277     State-gov        Masters             Divorced     Exec-managerial   \n",
       "16278       Private        HS-grad        Never-married   Machine-op-inspct   \n",
       "16279       Private           11th   Married-civ-spouse    Transport-moving   \n",
       "\n",
       "         relationship                 race      sex  native-country  \n",
       "0           Own-child   Asian-Pac-Islander   Female   United-States  \n",
       "1             Husband                White     Male   United-States  \n",
       "2           Unmarried                Black   Female   United-States  \n",
       "3       Not-in-family                White   Female   United-States  \n",
       "4                Wife                White   Female   United-States  \n",
       "...               ...                  ...      ...             ...  \n",
       "16275         Husband                White     Male   United-States  \n",
       "16276   Not-in-family                White   Female   United-States  \n",
       "16277       Unmarried                White   Female   United-States  \n",
       "16278   Not-in-family                White     Male   United-States  \n",
       "16279         Husband                White     Male   United-States  \n",
       "\n",
       "[16280 rows x 8 columns]"
      ]
     },
     "execution_count": 18,
     "metadata": {},
     "output_type": "execute_result"
    }
   ],
   "source": [
    "# categorical features\n",
    "cat_features = [\"workclass\", \"education\", \"marital-status\", \"occupation\", \n",
    "                \"relationship\", \"race\", \"sex\", \"native-country\"]\n",
    "\n",
    "# origianl numeric features\n",
    "num_features = [\"age\", \"education-num\", \"hours-per-week\"]\n",
    "\n",
    "x_train_drop[cat_features]"
   ]
  },
  {
   "cell_type": "code",
   "execution_count": 19,
   "metadata": {},
   "outputs": [],
   "source": [
    "from sklearn import preprocessing\n",
    "\n",
    "# encode categorical features\n",
    "enc = preprocessing.OrdinalEncoder()\n",
    "enc.fit(x_train_drop[cat_features])\n",
    "x_train_discrete = enc.transform(x_train_drop[cat_features])\n",
    "assert(x_train_discrete.shape == x_train_drop[cat_features].shape)\n",
    "\n",
    "# extract numeric features\n",
    "x_train_numeric = np.array(x_train_drop[num_features])\n",
    "assert(x_train_numeric.shape == x_train_drop[num_features].shape)\n",
    "\n",
    "# generate processed X\n",
    "X = np.concatenate((x_train_numeric,x_train_discrete), axis=1)\n",
    "Y = np.array(y_train_drop).reshape([len(y_train_drop),])\n",
    "\n",
    "assert(len(X) == len(Y))"
   ]
  },
  {
   "cell_type": "code",
   "execution_count": 20,
   "metadata": {},
   "outputs": [],
   "source": [
    "# This preprocessing procedure should be applied on testing set as well\n",
    "x_test_discrete = enc.transform(x_test_drop[cat_features])\n",
    "assert(x_test_discrete.shape == x_test_drop[cat_features].shape)\n",
    "\n",
    "x_test_numeric = np.array(x_test_drop[num_features])\n",
    "assert(x_test_numeric.shape == x_test_drop[num_features].shape)\n",
    "\n",
    "X_test = np.concatenate((x_test_discrete, x_test_numeric), axis=1)"
   ]
  },
  {
   "cell_type": "markdown",
   "metadata": {},
   "source": [
    "### Question 3\n",
    "<span style=\"color:#e6bc53\">(Bonus 2 point) Have you done any other data preprocessing steps? If you did, explain\n",
    "what you did and why you did it. Use no more than 100 words.</span>\n",
    "\n",
    "<p> We did two more preprocessing steps.</p>\n",
    "<p>1. We found that there were too many categories for the feature of education. We merged the primary education from 1st to 10th so as to generate a new tag.</p>\n",
    "<p>2. After encoding the categorical features, the ranges of them varies with the numeric ones. We normalized the data to eliminate the varying scales. We also standardized them, assuming that they obey Gaussian distribution.</p>"
   ]
  },
  {
   "cell_type": "code",
   "execution_count": 21,
   "metadata": {},
   "outputs": [
    {
     "name": "stdout",
     "output_type": "stream",
     "text": [
      "age  count\n",
      "28    452\n",
      "31    448\n",
      "35    437\n",
      "36    436\n",
      "33    436\n",
      "     ... \n",
      "82      7\n",
      "83      4\n",
      "85      2\n",
      "88      1\n",
      "87      1\n",
      "Name: age, Length: 72, dtype: int64\n",
      "\n",
      "education-num  count\n",
      "9.00000     5132\n",
      "10.00000    3607\n",
      "13.00000    2683\n",
      "14.00000     833\n",
      "11.00000     712\n",
      "7.00000      594\n",
      "12.00000     524\n",
      "6.00000      463\n",
      "4.00000      300\n",
      "15.00000     270\n",
      "5.00000      247\n",
      "10.09414     240\n",
      "8.00000      205\n",
      "16.00000     204\n",
      "3.00000      160\n",
      "2.00000       80\n",
      "1.00000       26\n",
      "Name: education-num, dtype: int64\n",
      "\n",
      "hours-per-week  count\n",
      "40    7575\n",
      "50    1407\n",
      "45     922\n",
      "60     732\n",
      "35     655\n",
      "      ... \n",
      "94       1\n",
      "61       1\n",
      "98       1\n",
      "82       1\n",
      "95       1\n",
      "Name: hours-per-week, Length: 89, dtype: int64\n",
      "\n",
      "workclass  count\n",
      " Private             11352\n",
      " Self-emp-not-inc     1263\n",
      " Local-gov            1063\n",
      " Unkonwn               936\n",
      " State-gov             628\n",
      " Self-emp-inc          574\n",
      " Federal-gov           453\n",
      " Without-pay             8\n",
      " Never-worked            3\n",
      "Name: workclass, dtype: int64\n",
      "\n",
      "education  count\n",
      " HS-grad         5210\n",
      " Some-college    3662\n",
      " Bachelors       2720\n",
      " Masters          847\n",
      " Assoc-voc        722\n",
      " 11th             607\n",
      " Assoc-acdm       531\n",
      " 10th             470\n",
      " 7th-8th          302\n",
      " Prof-school      274\n",
      " 9th              251\n",
      " Doctorate        209\n",
      " 12th             207\n",
      " 5th-6th          162\n",
      " 1st-4th           80\n",
      " Preschool         26\n",
      "Name: education, dtype: int64\n",
      "\n",
      "marital-status  count\n",
      " Married-civ-spouse       7464\n",
      " Never-married            5349\n",
      " Divorced                 2208\n",
      " Separated                 510\n",
      " Widowed                   500\n",
      " Married-spouse-absent     233\n",
      " Married-AF-spouse          16\n",
      "Name: marital-status, dtype: int64\n",
      "\n",
      "occupation  count\n",
      " Prof-specialty       2083\n",
      " Exec-managerial      1976\n",
      " Craft-repair         1969\n",
      " Adm-clerical         1886\n",
      " Sales                1824\n",
      " Other-service        1618\n",
      " Unkonwn              1181\n",
      " Machine-op-inspct     992\n",
      " Transport-moving      771\n",
      " Handlers-cleaners     649\n",
      " Farming-fishing       496\n",
      " Tech-support          440\n",
      " Protective-serv       323\n",
      " Priv-house-serv        68\n",
      " Armed-Forces            4\n",
      "Name: occupation, dtype: int64\n",
      "\n",
      "relationship  count\n",
      " Husband           6545\n",
      " Not-in-family     4192\n",
      " Own-child         2538\n",
      " Unmarried         1708\n",
      " Wife               806\n",
      " Other-relative     491\n",
      "Name: relationship, dtype: int64\n",
      "\n",
      "race  count\n",
      " White                 13953\n",
      " Black                  1537\n",
      " Asian-Pac-Islander      506\n",
      " Amer-Indian-Eskimo      146\n",
      " Other                   138\n",
      "Name: race, dtype: int64\n",
      "\n",
      "sex  count\n",
      " Male      10883\n",
      " Female     5397\n",
      "Name: sex, dtype: int64\n",
      "\n",
      "native-country  count\n",
      " United-States                 14598\n",
      " Mexico                          311\n",
      " Unkonwn                         300\n",
      " Philippines                      85\n",
      " Canada                           67\n",
      " Germany                          66\n",
      " Puerto-Rico                      63\n",
      " El-Salvador                      58\n",
      " India                            57\n",
      " Cuba                             44\n",
      " Jamaica                          43\n",
      " England                          43\n",
      " South                            41\n",
      " China                            38\n",
      " Poland                           35\n",
      " Japan                            32\n",
      " Vietnam                          31\n",
      " Italy                            30\n",
      " Columbia                         29\n",
      " Guatemala                        28\n",
      " Iran                             27\n",
      " Dominican-Republic               26\n",
      " Taiwan                           21\n",
      " Nicaragua                        21\n",
      " Portugal                         21\n",
      " Haiti                            16\n",
      " Peru                             15\n",
      " Ecuador                          15\n",
      " Greece                           15\n",
      " Laos                             13\n",
      " France                           12\n",
      " Hungary                          11\n",
      " Cambodia                         11\n",
      " Trinadad&Tobago                  11\n",
      " Ireland                          10\n",
      " Hong                              9\n",
      " Yugoslavia                        9\n",
      " Thailand                          7\n",
      " Honduras                          5\n",
      " Outlying-US(Guam-USVI-etc)        3\n",
      " Scotland                          3\n",
      "Name: native-country, dtype: int64\n",
      "\n"
     ]
    }
   ],
   "source": [
    "for feature in x_train_drop.columns:\n",
    "    print(str(feature),\" count\")\n",
    "    print(x_train_drop[feature].value_counts())\n",
    "    print()"
   ]
  },
  {
   "cell_type": "code",
   "execution_count": 22,
   "metadata": {},
   "outputs": [
    {
     "data": {
      "image/png": "[encoded data removed]",
      "text/plain": [
       "<Figure size 460.8x403.2 with 1 Axes>"
      ]
     },
     "metadata": {},
     "output_type": "display_data"
    },
    {
     "data": {
      "image/png": "[encoded data removed]",
      "text/plain": [
       "<Figure size 460.8x403.2 with 1 Axes>"
      ]
     },
     "metadata": {},
     "output_type": "display_data"
    },
    {
     "data": {
      "image/png": "[encoded data removed]",
      "text/plain": [
       "<Figure size 460.8x403.2 with 1 Axes>"
      ]
     },
     "metadata": {},
     "output_type": "display_data"
    },
    {
     "data": {
      "image/png": "[encoded data removed]",
      "text/plain": [
       "<Figure size 460.8x403.2 with 1 Axes>"
      ]
     },
     "metadata": {},
     "output_type": "display_data"
    },
    {
     "data": {
      "image/png": "[encoded data removed]",
      "text/plain": [
       "<Figure size 460.8x403.2 with 1 Axes>"
      ]
     },
     "metadata": {},
     "output_type": "display_data"
    },
    {
     "data": {
      "image/png": "[encoded data removed]",
      "text/plain": [
       "<Figure size 460.8x403.2 with 1 Axes>"
      ]
     },
     "metadata": {},
     "output_type": "display_data"
    },
    {
     "data": {
      "image/png": "[encoded data removed]",
      "text/plain": [
       "<Figure size 460.8x403.2 with 1 Axes>"
      ]
     },
     "metadata": {},
     "output_type": "display_data"
    },
    {
     "data": {
      "image/png": "[encoded data removed]",
      "text/plain": [
       "<Figure size 460.8x403.2 with 1 Axes>"
      ]
     },
     "metadata": {},
     "output_type": "display_data"
    },
    {
     "data": {
      "image/png": "[encoded data removed]",
      "text/plain": [
       "<Figure size 460.8x403.2 with 1 Axes>"
      ]
     },
     "metadata": {},
     "output_type": "display_data"
    },
    {
     "data": {
      "image/png": "[encoded data removed]",
      "text/plain": [
       "<Figure size 460.8x403.2 with 1 Axes>"
      ]
     },
     "metadata": {},
     "output_type": "display_data"
    },
    {
     "data": {
      "image/png": "[encoded data removed]",
      "text/plain": [
       "<Figure size 460.8x403.2 with 1 Axes>"
      ]
     },
     "metadata": {},
     "output_type": "display_data"
    }
   ],
   "source": [
    "# use the histogram to evaluate the distributions of the features \n",
    "for i in range(11):\n",
    "    plt.hist(X[:,i])\n",
    "    plt.xlabel(x_train_drop.columns[i])\n",
    "    plt.ylabel(\"number\")\n",
    "    plt.show()"
   ]
  },
  {
   "cell_type": "code",
   "execution_count": 23,
   "metadata": {},
   "outputs": [],
   "source": [
    "# merge 1st-12th\n",
    "def primary(x):\n",
    "    if x in [' 1st-4th', ' 5th-6th', ' 7th-8th', ' 9th', ' 10th', ' 11th', ' 12th']:\n",
    "        return ' Primary'\n",
    "    else:\n",
    "        return x\n",
    "    \n",
    "x_train_drop[\"education\"] = x_train_drop[\"education\"].apply(primary)\n",
    "x_test_drop[\"education\"] = x_test_drop[\"education\"].apply(primary)"
   ]
  },
  {
   "cell_type": "code",
   "execution_count": 24,
   "metadata": {},
   "outputs": [],
   "source": [
    "# encode categorical features\n",
    "enc = preprocessing.OrdinalEncoder()\n",
    "enc.fit(x_train_drop[cat_features])\n",
    "x_train_discrete = enc.transform(x_train_drop[cat_features])\n",
    "assert(x_train_discrete.shape == x_train_drop[cat_features].shape)\n",
    "\n",
    "# extract numeric features\n",
    "x_train_numeric = np.array(x_train_drop[num_features])\n",
    "assert(x_train_numeric.shape == x_train_drop[num_features].shape)\n",
    "\n",
    "# generate processed X\n",
    "X = np.concatenate((x_train_numeric,x_train_discrete), axis=1)\n",
    "Y = np.array(y_train_drop).reshape([len(y_train_drop),])\n",
    "\n",
    "assert(len(X) == len(Y))\n",
    "\n",
    "# This preprocessing procedure should be applied on testing set as well\n",
    "x_test_discrete = enc.transform(x_test_drop[cat_features])\n",
    "assert(x_test_discrete.shape == x_test_drop[cat_features].shape)\n",
    "\n",
    "x_test_numeric = np.array(x_test_drop[num_features])\n",
    "assert(x_test_numeric.shape == x_test_drop[num_features].shape)\n",
    "\n",
    "X_test = np.concatenate((x_test_discrete, x_test_numeric), axis=1)"
   ]
  },
  {
   "cell_type": "code",
   "execution_count": 25,
   "metadata": {},
   "outputs": [],
   "source": [
    "# standerlize and normalize the training set\n",
    "scaler_std = preprocessing.StandardScaler().fit(X)\n",
    "scaler_norm = preprocessing.Normalizer().fit(X)\n",
    "\n",
    "X_std = scaler_std.transform(X)\n",
    "X_norm = scaler_norm.transform(X)"
   ]
  },
  {
   "cell_type": "markdown",
   "metadata": {},
   "source": [
    "## Experiments"
   ]
  },
  {
   "cell_type": "markdown",
   "metadata": {},
   "source": [
    "### Question 1\n",
    "<span style=\"color:#e6bc53\">(1 point) Now set up your experiment. Clearly explain how you divided the data and\n",
    "how you ensured that your measurements are valid. Use no more than 100 words.</span>\n",
    "\n",
    "<p>We decided to use KFlod cross-validation to train and test our models because it could make full use of the dataset, and try its best to avoid the overfitting problem.</p>\n",
    "<p>In terms of ensuring our measurements, we plotted the learning curve for the training and testing processes in order to monitor the performance of the measurements to guarantee its validation.</p>"
   ]
  },
  {
   "cell_type": "code",
   "execution_count": 26,
   "metadata": {},
   "outputs": [],
   "source": [
    "from sklearn.metrics import f1_score, accuracy_score\n",
    "from sklearn.model_selection import KFold\n",
    "from sklearn.model_selection import cross_validate\n",
    "from sklearn.metrics import make_scorer\n",
    "from sklearn.model_selection import learning_curve, validation_curve"
   ]
  },
  {
   "cell_type": "markdown",
   "metadata": {},
   "source": [
    "### Question 2\n",
    "<span style=\"color:#e6bc53\">(2 points) Fit the five algorithms using the default hyper-parameters from section 2.1.\n",
    "Create a useful plot that shows the performances of the algorithms. Clearly explain\n",
    "what this plot tells us about the performances of the algorithms. Also, clearly explain\n",
    "why you think some algorithms perform better than others. Use no more than 150\n",
    "words and two plots (but 1 is sufficient).\n",
    "</span>\n",
    "\n"
   ]
  },
  {
   "cell_type": "code",
   "execution_count": 27,
   "metadata": {},
   "outputs": [],
   "source": [
    "# build up five algorithms\n",
    "random_state = 42\n",
    "\n",
    "models = {\n",
    "    \"GaussianNB\": GaussianNB(),\n",
    "    \n",
    "    \"DecisionTreeClassifier\": DecisionTreeClassifier(\n",
    "        max_depth=None, \n",
    "        min_samples_leaf=2, \n",
    "        random_state=random_state\n",
    "    ),\n",
    "    \n",
    "    \"KNeighborsClassifier\": KNeighborsClassifier(\n",
    "        n_neighbors=3, \n",
    "        weights=\"distance\"\n",
    "    ),\n",
    "    \n",
    "    \"SVM\": SVC(\n",
    "        C=10, \n",
    "        kernel=\"poly\", \n",
    "        random_state=random_state\n",
    "    ),\n",
    "    \n",
    "    \"LogisticRegression\": LogisticRegression(\n",
    "        C=10,\n",
    "        penalty=\"none\",\n",
    "        random_state=random_state\n",
    "    ),\n",
    "}\n"
   ]
  },
  {
   "cell_type": "code",
   "execution_count": 28,
   "metadata": {},
   "outputs": [
    {
     "data": {
      "image/png": "[encoded data removed]",
      "text/plain": [
       "<Figure size 460.8x403.2 with 1 Axes>"
      ]
     },
     "metadata": {},
     "output_type": "display_data"
    },
    {
     "data": {
      "image/png": "[encoded data removed]",
      "text/plain": [
       "<Figure size 460.8x403.2 with 1 Axes>"
      ]
     },
     "metadata": {},
     "output_type": "display_data"
    },
    {
     "data": {
      "image/png": "[encoded data removed]",
      "text/plain": [
       "<Figure size 460.8x403.2 with 1 Axes>"
      ]
     },
     "metadata": {},
     "output_type": "display_data"
    },
    {
     "data": {
      "image/png": "[encoded data removed]",
      "text/plain": [
       "<Figure size 460.8x403.2 with 1 Axes>"
      ]
     },
     "metadata": {},
     "output_type": "display_data"
    },
    {
     "data": {
      "image/png": "[encoded data removed]",
      "text/plain": [
       "<Figure size 460.8x403.2 with 1 Axes>"
      ]
     },
     "metadata": {},
     "output_type": "display_data"
    }
   ],
   "source": [
    "# plot the validation curve\n",
    "cv = KFold(n_splits=10, random_state=random_state, shuffle=True)\n",
    "scoring_method_F1 = make_scorer(lambda prediction, true_target:\n",
    "                                f1_score(prediction, true_target, average=\"weighted\"))\n",
    "scoring_method_acc = make_scorer(lambda prediction, true_target:\n",
    "                                 accuracy_score(prediction, true_target))\n",
    "\n",
    "for name, model in models.items():\n",
    "    train_sizes, train_scores, valid_scores = learning_curve(model,\n",
    "                                                            X, Y,\n",
    "                                                            train_sizes=np.linspace(0.1, 1, 10),\n",
    "                                                            cv=cv,\n",
    "                                                            scoring='f1_weighted',\n",
    "                                                            n_jobs=8\n",
    "                                                           )\n",
    "    train_scores_mean = np.mean(train_scores, axis=1)\n",
    "    valid_scores_mean = np.mean(valid_scores, axis=1)\n",
    "    plt.plot(train_sizes, train_scores_mean, label=\"train_scores\")\n",
    "    plt.plot(train_sizes, valid_scores_mean, label=\"valid_scores\")\n",
    "    plt.xlabel(\"train_sizes\")\n",
    "    plt.ylabel(\"F1_scores\")\n",
    "    plt.title(name+\"_learning_curve\")\n",
    "    plt.show()\n"
   ]
  },
  {
   "cell_type": "code",
   "execution_count": 29,
   "metadata": {},
   "outputs": [],
   "source": [
    "# generate measurements for validation (K-flod cross validation)\n",
    "def k_fold_fit_and_evaluate(X, y, model, scoring_method, n_splits=5):\n",
    "    # define evaluation procedure\n",
    "    cv = KFold(n_splits=n_splits, random_state=42, shuffle=True)\n",
    "    # evaluate model\n",
    "    scores = cross_validate(model, X, y, scoring=scoring_method, cv=cv, n_jobs=-1)\n",
    "    \n",
    "    return scores[\"test_score\"]"
   ]
  },
  {
   "cell_type": "code",
   "execution_count": 30,
   "metadata": {},
   "outputs": [
    {
     "name": "stdout",
     "output_type": "stream",
     "text": [
      "GaussianNB\n",
      " mean F1: \t  std F1\n",
      "0.789848 \t 0.008278\n",
      " mean Accuracy \t  std Accuracy\n",
      "0.782125 \t 0.009244\n",
      "\n",
      "DecisionTreeClassifier\n",
      " mean F1: \t  std F1\n",
      "0.780167 \t 0.009868\n",
      " mean Accuracy \t  std Accuracy\n",
      "0.787531 \t 0.010321\n",
      "\n",
      "KNeighborsClassifier\n",
      " mean F1: \t  std F1\n",
      "0.773505 \t 0.003595\n",
      " mean Accuracy \t  std Accuracy\n",
      "0.774509 \t 0.002078\n",
      "\n",
      "SVM\n",
      " mean F1: \t  std F1\n",
      "0.782466 \t 0.009929\n",
      " mean Accuracy \t  std Accuracy\n",
      "0.808415 \t 0.007882\n",
      "\n",
      "LogisticRegression\n",
      " mean F1: \t  std F1\n",
      "0.779953 \t 0.006116\n",
      " mean Accuracy \t  std Accuracy\n",
      "0.799324 \t 0.005608\n",
      "\n"
     ]
    }
   ],
   "source": [
    "# validate the models by testing data\n",
    "for name, model in models.items():\n",
    "    print(name)\n",
    "    metrics_F1 = k_fold_fit_and_evaluate(X, Y, model, scoring_method_F1, n_splits=5)\n",
    "    metrics_acc = k_fold_fit_and_evaluate(X, Y, model, scoring_method_acc, n_splits=5)\n",
    "    print(\" mean F1:\", '\\t', \" std F1\")\n",
    "    print(format(np.mean(metrics_F1),\"5f\"), '\\t', format(np.std(metrics_F1),\"5f\"))\n",
    "    print(\" mean Accuracy\", '\\t', \" std Accuracy\")\n",
    "    print(format(np.mean(metrics_acc),\"5f\"), '\\t', format(np.std(metrics_acc),\"5f\"))\n",
    "    print()"
   ]
  },
  {
   "cell_type": "markdown",
   "metadata": {},
   "source": [
    "### Question 3"
   ]
  },
  {
   "cell_type": "code",
   "execution_count": 31,
   "metadata": {},
   "outputs": [],
   "source": [
    "# find the best C for LogisticRegression\n",
    "param_range = np.arange(1,20)\n",
    "train_scores, valid_scores = validation_curve(models[\"LogisticRegression\"],\n",
    "                                              X, Y,\n",
    "                                              \"C\", param_range,\n",
    "                                              cv=cv,\n",
    "                                              scoring='f1_weighted',\n",
    "                                              n_jobs=8\n",
    "                                             )"
   ]
  },
  {
   "cell_type": "code",
   "execution_count": 32,
   "metadata": {},
   "outputs": [
    {
     "data": {
      "image/png": "[encoded data removed]",
      "text/plain": [
       "<Figure size 460.8x403.2 with 1 Axes>"
      ]
     },
     "metadata": {},
     "output_type": "display_data"
    }
   ],
   "source": [
    "plt.plot(param_range, np.mean(train_scores,axis=1), label='train_scores')\n",
    "plt.plot(param_range, np.mean(valid_scores,axis=1), label='valid_scores')\n",
    "plt.show()"
   ]
  },
  {
   "cell_type": "markdown",
   "metadata": {},
   "source": [
    "### Question 4"
   ]
  },
  {
   "cell_type": "code",
   "execution_count": 33,
   "metadata": {},
   "outputs": [],
   "source": [
    "# find the best C for SVM\n",
    "param_range = np.arange(10,110,10)\n",
    "train_scores, valid_scores = validation_curve(models[\"SVM\"],\n",
    "                                              X, Y,\n",
    "                                              \"C\", param_range,\n",
    "                                              cv=cv,\n",
    "                                              scoring='f1_weighted',\n",
    "                                              n_jobs=8\n",
    "                                             )"
   ]
  },
  {
   "cell_type": "code",
   "execution_count": 34,
   "metadata": {},
   "outputs": [
    {
     "data": {
      "image/png": "[encoded data removed]",
      "text/plain": [
       "<Figure size 460.8x403.2 with 1 Axes>"
      ]
     },
     "metadata": {},
     "output_type": "display_data"
    }
   ],
   "source": [
    "plt.plot(param_range, np.mean(train_scores,axis=1), label='train_scores')\n",
    "plt.plot(param_range, np.mean(valid_scores,axis=1), label='valid_scores')\n",
    "plt.show()"
   ]
  },
  {
   "cell_type": "code",
   "execution_count": 35,
   "metadata": {},
   "outputs": [
    {
     "name": "stdout",
     "output_type": "stream",
     "text": [
      "GaussianNB\n",
      "- best_score = 0.7895539497627226\n",
      "best paramters:\n",
      "DecisionTreeClassifier\n",
      "- best_score = 0.8209999179075101\n",
      "best paramters:\n",
      "- max_depth 10\n",
      "- min_samples_leaf 10\n",
      "- random_state 42\n",
      "KNeighborsClassifier\n",
      "- best_score = 0.7870556137243816\n",
      "best paramters:\n",
      "- n_neighbors 19\n",
      "- weights distance\n",
      "SVM\n",
      "- best_score = 0.7986208879793998\n",
      "best paramters:\n",
      "- C 100\n",
      "- random_state 42\n",
      "LogisticRegression\n",
      "- best_score = 0.7825789264876599\n",
      "best paramters:\n",
      "- C 80\n",
      "- penalty l2\n",
      "- random_state 42\n"
     ]
    }
   ],
   "source": [
    "from sklearn.model_selection import GridSearchCV\n",
    "\n",
    "model_parameters = {\n",
    "    \"GaussianNB\": {\n",
    "    \n",
    "    },\n",
    "    \n",
    "    \"DecisionTreeClassifier\": {\n",
    "        'random_state': [random_state],\n",
    "        'min_samples_leaf': [2, 4, 6, 8, 10],\n",
    "        'max_depth': [10, 40, 70, 100, 400, 700, None]\n",
    "    },\n",
    "    \n",
    "    \"KNeighborsClassifier\": {\n",
    "        \"n_neighbors\": [3, 7, 9, 13, 15, 19],\n",
    "        \"weights\": [\"distance\"] \n",
    "    },\n",
    "    \n",
    "    \"SVM\": {\n",
    "        \"C\": np.arange(10, 110, 10),\n",
    "#         \"kernal\": [\"poly\"],\n",
    "        \"random_state\": [random_state]\n",
    "    },\n",
    "    \n",
    "    \"LogisticRegression\": {\n",
    "        \"C\": np.arange(10, 110, 10),\n",
    "        \"penalty\": ['l1', 'l2', 'elasticnet', 'none'],\n",
    "        \"random_state\": [random_state]\n",
    "    }\n",
    "}\n",
    "\n",
    "random_state = 42\n",
    "n_splits = 10\n",
    "scoring_method = make_scorer(lambda prediction, true_target: f1_score(prediction, true_target, average=\"weighted\"))\n",
    "\n",
    "for model_name, parameters in model_parameters.items():\n",
    "    model = models[model_name]\n",
    "    \n",
    "    cv = KFold(n_splits=n_splits, random_state=random_state, shuffle=True)\n",
    "    grid_search = GridSearchCV(model, parameters, cv=cv, n_jobs=-1, verbose=False, scoring=scoring_method).fit(X, Y)\n",
    "    \n",
    "    best_model = grid_search.best_estimator_\n",
    "    best_score = grid_search.best_score_\n",
    "    best_params = grid_search.best_params_\n",
    "    \n",
    "    print(model_name)\n",
    "    print(\"- best_score =\", best_score)\n",
    "    print(\"best paramters:\")\n",
    "    for k,v in best_params.items():\n",
    "        print(\"-\", k, v)\n"
   ]
  },
  {
   "cell_type": "markdown",
   "metadata": {},
   "source": [
    "### Question 5"
   ]
  },
  {
   "cell_type": "code",
   "execution_count": 36,
   "metadata": {},
   "outputs": [],
   "source": [
    "# #TODO\n",
    "# prediction = np.array([-1] * len(X_test)) #TODO replace this with you own prediction\n",
    "# pd.DataFrame(prediction).to_csv(\"GROUP_classes_problem_census.txt\", index=False, header=False)"
   ]
  }
 ],
 "metadata": {
  "kernelspec": {
   "display_name": "Python 3",
   "language": "python",
   "name": "python3"
  },
  "language_info": {
   "codemirror_mode": {
    "name": "ipython",
    "version": 3
   },
   "file_extension": ".py",
   "mimetype": "text/x-python",
   "name": "python",
   "nbconvert_exporter": "python",
   "pygments_lexer": "ipython3",
   "version": "3.7.9"
  },
  "toc": {
   "base_numbering": 1,
   "nav_menu": {},
   "number_sections": true,
   "sideBar": true,
   "skip_h1_title": false,
   "title_cell": "Table of Contents",
   "title_sidebar": "Contents",
   "toc_cell": false,
   "toc_position": {},
   "toc_section_display": true,
   "toc_window_display": false
  },
  "varInspector": {
   "cols": {
    "lenName": 16,
    "lenType": 16,
    "lenVar": 40
   },
   "kernels_config": {
    "python": {
     "delete_cmd_postfix": "",
     "delete_cmd_prefix": "del ",
     "library": "var_list.py",
     "varRefreshCmd": "print(var_dic_list())"
    },
    "r": {
     "delete_cmd_postfix": ") ",
     "delete_cmd_prefix": "rm(",
     "library": "var_list.r",
     "varRefreshCmd": "cat(var_dic_list()) "
    }
   },
   "position": {
    "height": "601px",
    "left": "761px",
    "right": "20px",
    "top": "120px",
    "width": "350px"
   },
   "types_to_exclude": [
    "module",
    "function",
    "builtin_function_or_method",
    "instance",
    "_Feature"
   ],
   "window_display": false
  }
 },
 "nbformat": 4,
 "nbformat_minor": 4
}
